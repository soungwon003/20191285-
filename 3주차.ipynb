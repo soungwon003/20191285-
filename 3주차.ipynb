{
 "cells": [
  {
   "cell_type": "code",
   "execution_count": 1,
   "id": "7a397f5f",
   "metadata": {},
   "outputs": [],
   "source": [
    "strVal = 'data science'               # 문자열 변수\n",
    "nVal = 12345                          # 정수형 변수\n",
    "fVal = 1.2                            # 실수형 변수\n",
    "lVal = ['data', 'science']            # 리스트\n",
    "dVal = {'lecture' : 'data science'}   # 딕셔너리\n",
    "bVal = True                           # 논리형 변수(참/거짓)"
   ]
  },
  {
   "cell_type": "code",
   "execution_count": 2,
   "id": "0ea8b442",
   "metadata": {},
   "outputs": [],
   "source": [
    "# 기본적인 주석"
   ]
  },
  {
   "cell_type": "code",
   "execution_count": 3,
   "id": "16982b0d",
   "metadata": {},
   "outputs": [
    {
     "data": {
      "text/plain": [
       "' \\n이런 형태의 주석도 많이 사용\\n'"
      ]
     },
     "execution_count": 3,
     "metadata": {},
     "output_type": "execute_result"
    }
   ],
   "source": [
    "''' \n",
    "이런 형태의 주석도 많이 사용\n",
    "'''"
   ]
  },
  {
   "cell_type": "code",
   "execution_count": 4,
   "id": "93d08a6a",
   "metadata": {},
   "outputs": [
    {
     "data": {
      "text/plain": [
       "'data science'"
      ]
     },
     "execution_count": 4,
     "metadata": {},
     "output_type": "execute_result"
    }
   ],
   "source": [
    "strVal"
   ]
  },
  {
   "cell_type": "code",
   "execution_count": 5,
   "id": "91441669",
   "metadata": {},
   "outputs": [
    {
     "data": {
      "text/plain": [
       "12345"
      ]
     },
     "execution_count": 5,
     "metadata": {},
     "output_type": "execute_result"
    }
   ],
   "source": [
    "nVal"
   ]
  },
  {
   "cell_type": "code",
   "execution_count": 6,
   "id": "ff84f865",
   "metadata": {},
   "outputs": [
    {
     "data": {
      "text/plain": [
       "1.2"
      ]
     },
     "execution_count": 6,
     "metadata": {},
     "output_type": "execute_result"
    }
   ],
   "source": [
    "fVal"
   ]
  },
  {
   "cell_type": "code",
   "execution_count": 7,
   "id": "0a9e22ac",
   "metadata": {},
   "outputs": [
    {
     "data": {
      "text/plain": [
       "['data', 'science']"
      ]
     },
     "execution_count": 7,
     "metadata": {},
     "output_type": "execute_result"
    }
   ],
   "source": [
    "lVal"
   ]
  },
  {
   "cell_type": "code",
   "execution_count": 8,
   "id": "7f3aa4b1",
   "metadata": {},
   "outputs": [
    {
     "data": {
      "text/plain": [
       "{'lecture': 'data science'}"
      ]
     },
     "execution_count": 8,
     "metadata": {},
     "output_type": "execute_result"
    }
   ],
   "source": [
    "dVal"
   ]
  },
  {
   "cell_type": "code",
   "execution_count": 9,
   "id": "47ad7dea",
   "metadata": {},
   "outputs": [
    {
     "data": {
      "text/plain": [
       "True"
      ]
     },
     "execution_count": 9,
     "metadata": {},
     "output_type": "execute_result"
    }
   ],
   "source": [
    "bVal"
   ]
  },
  {
   "cell_type": "code",
   "execution_count": 10,
   "id": "768b432e",
   "metadata": {},
   "outputs": [
    {
     "name": "stdout",
     "output_type": "stream",
     "text": [
      "strVal :  data science\n",
      "nVal :  12345\n",
      "fVal :  1.2\n",
      "lVal :  ['data', 'science']\n",
      "dVal :  {'lecture': 'data science'}\n",
      "bVal :  True\n"
     ]
    }
   ],
   "source": [
    "print('strVal : ', strVal)\n",
    "print('nVal : ', nVal)\n",
    "print('fVal : ', fVal)\n",
    "print('lVal : ', lVal)\n",
    "print('dVal : ', dVal)\n",
    "print('bVal : ', bVal)"
   ]
  },
  {
   "cell_type": "code",
   "execution_count": 11,
   "id": "3cf25350",
   "metadata": {},
   "outputs": [
    {
     "name": "stdout",
     "output_type": "stream",
     "text": [
      "strVal :  <class 'str'>\n",
      "nVal :  <class 'int'>\n",
      "fVal :  <class 'float'>\n",
      "lVal :  <class 'list'>\n",
      "dVal :  <class 'dict'>\n",
      "bVal :  <class 'bool'>\n"
     ]
    }
   ],
   "source": [
    "print('strVal : ', type(strVal))\n",
    "print('nVal : ', type(nVal))\n",
    "print('fVal : ', type(fVal))\n",
    "print('lVal : ', type(lVal))\n",
    "print('dVal : ', type(dVal))\n",
    "print('bVal : ', type(bVal))"
   ]
  },
  {
   "cell_type": "code",
   "execution_count": 12,
   "id": "50bb62b1",
   "metadata": {},
   "outputs": [],
   "source": [
    "'''\n",
    "같은 변수명일 경우, 이전 데이터를 덮어씀\n",
    "'''\n",
    "nVal = 16                          # 정수형 변수\n",
    "fVal = 3.14                        # 실수형 변수"
   ]
  },
  {
   "cell_type": "code",
   "execution_count": 13,
   "id": "eea83cd2",
   "metadata": {},
   "outputs": [
    {
     "name": "stdout",
     "output_type": "stream",
     "text": [
      "10진수 표현 :  16\n",
      "2진수 표현 :  0b10000\n",
      "8진수 표현 :  0o20\n",
      "16진수 표현 :  0x10\n"
     ]
    }
   ],
   "source": [
    "print('10진수 표현 : ', nVal)       # 10진수\n",
    "print('2진수 표현 : ', bin(nVal))  # 2진수\n",
    "print('8진수 표현 : ', oct(nVal))  # 8진수\n",
    "print('16진수 표현 : ', hex(nVal))  # 16진수"
   ]
  },
  {
   "cell_type": "code",
   "execution_count": 14,
   "id": "d53e38d5",
   "metadata": {},
   "outputs": [],
   "source": [
    "btVal = True                           # 논리형 변수(참)\n",
    "bfVal = False                          # 논리형 변수(거짓)"
   ]
  },
  {
   "cell_type": "code",
   "execution_count": 15,
   "id": "180c4e5e",
   "metadata": {},
   "outputs": [
    {
     "ename": "NameError",
     "evalue": "name 'TRUE' is not defined",
     "output_type": "error",
     "traceback": [
      "\u001b[1;31m---------------------------------------------------------------------------\u001b[0m",
      "\u001b[1;31mNameError\u001b[0m                                 Traceback (most recent call last)",
      "Input \u001b[1;32mIn [15]\u001b[0m, in \u001b[0;36m<cell line: 1>\u001b[1;34m()\u001b[0m\n\u001b[1;32m----> 1\u001b[0m btVal \u001b[38;5;241m=\u001b[39m \u001b[43mTRUE\u001b[49m                          \u001b[38;5;66;03m# 논리형 변수(참) - 오류\u001b[39;00m\n\u001b[0;32m      2\u001b[0m bfVal \u001b[38;5;241m=\u001b[39m FALSE\n",
      "\u001b[1;31mNameError\u001b[0m: name 'TRUE' is not defined"
     ]
    }
   ],
   "source": [
    "btVal = TRUE                          # 논리형 변수(참) - 오류\n",
    "bfVal = FALSE                          # 논리형 변수(거짓) - 오류"
   ]
  },
  {
   "cell_type": "code",
   "execution_count": 16,
   "id": "1acfa999",
   "metadata": {},
   "outputs": [
    {
     "ename": "NameError",
     "evalue": "name 'true' is not defined",
     "output_type": "error",
     "traceback": [
      "\u001b[1;31m---------------------------------------------------------------------------\u001b[0m",
      "\u001b[1;31mNameError\u001b[0m                                 Traceback (most recent call last)",
      "Input \u001b[1;32mIn [16]\u001b[0m, in \u001b[0;36m<cell line: 1>\u001b[1;34m()\u001b[0m\n\u001b[1;32m----> 1\u001b[0m btVal \u001b[38;5;241m=\u001b[39m \u001b[43mtrue\u001b[49m                          \u001b[38;5;66;03m# 논리형 변수(참) - 오류\u001b[39;00m\n\u001b[0;32m      2\u001b[0m bfVal \u001b[38;5;241m=\u001b[39m false\n",
      "\u001b[1;31mNameError\u001b[0m: name 'true' is not defined"
     ]
    }
   ],
   "source": [
    "btVal = true                          # 논리형 변수(참) - 오류\n",
    "bfVal = false                          # 논리형 변수(거짓) - 오류"
   ]
  },
  {
   "cell_type": "code",
   "execution_count": 17,
   "id": "c3cf77ef",
   "metadata": {},
   "outputs": [
    {
     "data": {
      "text/plain": [
       "False"
      ]
     },
     "execution_count": 17,
     "metadata": {},
     "output_type": "execute_result"
    }
   ],
   "source": [
    "10 == 11"
   ]
  },
  {
   "cell_type": "code",
   "execution_count": 18,
   "id": "933fb1db",
   "metadata": {},
   "outputs": [
    {
     "data": {
      "text/plain": [
       "True"
      ]
     },
     "execution_count": 18,
     "metadata": {},
     "output_type": "execute_result"
    }
   ],
   "source": [
    "10 != 11"
   ]
  },
  {
   "cell_type": "code",
   "execution_count": 19,
   "id": "7a842aae",
   "metadata": {},
   "outputs": [
    {
     "data": {
      "text/plain": [
       "False"
      ]
     },
     "execution_count": 19,
     "metadata": {},
     "output_type": "execute_result"
    }
   ],
   "source": [
    "10 >= 11"
   ]
  },
  {
   "cell_type": "code",
   "execution_count": 20,
   "id": "4c922706",
   "metadata": {},
   "outputs": [
    {
     "data": {
      "text/plain": [
       "True"
      ]
     },
     "execution_count": 20,
     "metadata": {},
     "output_type": "execute_result"
    }
   ],
   "source": [
    "10 <= 11"
   ]
  },
  {
   "cell_type": "code",
   "execution_count": 21,
   "id": "560ba1bc",
   "metadata": {},
   "outputs": [
    {
     "data": {
      "text/plain": [
       "False"
      ]
     },
     "execution_count": 21,
     "metadata": {},
     "output_type": "execute_result"
    }
   ],
   "source": [
    "10 > 11"
   ]
  },
  {
   "cell_type": "code",
   "execution_count": 22,
   "id": "bec8bd7a",
   "metadata": {},
   "outputs": [
    {
     "data": {
      "text/plain": [
       "True"
      ]
     },
     "execution_count": 22,
     "metadata": {},
     "output_type": "execute_result"
    }
   ],
   "source": [
    "10 < 11"
   ]
  },
  {
   "cell_type": "code",
   "execution_count": 23,
   "id": "2c161711",
   "metadata": {},
   "outputs": [],
   "source": [
    "nBig = 100\n",
    "nSmall = 10"
   ]
  },
  {
   "cell_type": "code",
   "execution_count": 24,
   "id": "e3b09f11",
   "metadata": {},
   "outputs": [
    {
     "name": "stdout",
     "output_type": "stream",
     "text": [
      "False\n",
      "True\n",
      "True\n",
      "False\n",
      "True\n",
      "False\n"
     ]
    }
   ],
   "source": [
    "print(nBig == nSmall)\n",
    "print(nBig != nSmall)\n",
    "print(nBig >= nSmall)\n",
    "print(nBig <= nSmall)\n",
    "print(nBig > nSmall)\n",
    "print(nBig < nSmall)"
   ]
  },
  {
   "cell_type": "code",
   "execution_count": 25,
   "id": "88dd6a21",
   "metadata": {},
   "outputs": [
    {
     "ename": "SyntaxError",
     "evalue": "invalid syntax (2910044186.py, line 1)",
     "output_type": "error",
     "traceback": [
      "\u001b[1;36m  Input \u001b[1;32mIn [25]\u001b[1;36m\u001b[0m\n\u001b[1;33m    print(nBig =< nSmall)     # 오류\u001b[0m\n\u001b[1;37m                ^\u001b[0m\n\u001b[1;31mSyntaxError\u001b[0m\u001b[1;31m:\u001b[0m invalid syntax\n"
     ]
    }
   ],
   "source": [
    "print(nBig =< nSmall)     # 오류"
   ]
  },
  {
   "cell_type": "code",
   "execution_count": 26,
   "id": "8f085c4f",
   "metadata": {},
   "outputs": [
    {
     "ename": "SyntaxError",
     "evalue": "invalid syntax (1053890005.py, line 1)",
     "output_type": "error",
     "traceback": [
      "\u001b[1;36m  Input \u001b[1;32mIn [26]\u001b[1;36m\u001b[0m\n\u001b[1;33m    print(nBig => nSmall)     # 오류\u001b[0m\n\u001b[1;37m                ^\u001b[0m\n\u001b[1;31mSyntaxError\u001b[0m\u001b[1;31m:\u001b[0m invalid syntax\n"
     ]
    }
   ],
   "source": [
    "print(nBig => nSmall)     # 오류"
   ]
  },
  {
   "cell_type": "code",
   "execution_count": 27,
   "id": "6e03aedb",
   "metadata": {},
   "outputs": [],
   "source": [
    "strData = 'data'               # 문자열 변수\n",
    "strSci = \"Science\"             # 문자열 변수"
   ]
  },
  {
   "cell_type": "code",
   "execution_count": 28,
   "id": "2fe17135",
   "metadata": {},
   "outputs": [],
   "source": [
    "strLecture = strData + strSci"
   ]
  },
  {
   "cell_type": "code",
   "execution_count": 29,
   "id": "023f07f4",
   "metadata": {},
   "outputs": [
    {
     "data": {
      "text/plain": [
       "'dataScience'"
      ]
     },
     "execution_count": 29,
     "metadata": {},
     "output_type": "execute_result"
    }
   ],
   "source": [
    "strLecture"
   ]
  },
  {
   "cell_type": "code",
   "execution_count": 30,
   "id": "cc96ecfd",
   "metadata": {},
   "outputs": [
    {
     "data": {
      "text/plain": [
       "'data Science'"
      ]
     },
     "execution_count": 30,
     "metadata": {},
     "output_type": "execute_result"
    }
   ],
   "source": [
    "strLecture = strData +\" \"+ strSci\n",
    "strLecture"
   ]
  },
  {
   "cell_type": "code",
   "execution_count": 31,
   "id": "b98237f3",
   "metadata": {},
   "outputs": [
    {
     "data": {
      "text/plain": [
       "['data', 'Science']"
      ]
     },
     "execution_count": 31,
     "metadata": {},
     "output_type": "execute_result"
    }
   ],
   "source": [
    "strLecture.split()              # split()으로 공백을 기준으로 문자열 구분"
   ]
  },
  {
   "cell_type": "code",
   "execution_count": 32,
   "id": "535bd74b",
   "metadata": {},
   "outputs": [],
   "source": [
    "lSeperate = strLecture.split() # split()으로 공백을 기준으로 문자열 구분아혀 lSeperate 변수에 저장"
   ]
  },
  {
   "cell_type": "code",
   "execution_count": 33,
   "id": "311f8f11",
   "metadata": {},
   "outputs": [
    {
     "data": {
      "text/plain": [
       "list"
      ]
     },
     "execution_count": 33,
     "metadata": {},
     "output_type": "execute_result"
    }
   ],
   "source": [
    "type(lSeperate)"
   ]
  },
  {
   "cell_type": "code",
   "execution_count": 34,
   "id": "a021b1a1",
   "metadata": {},
   "outputs": [],
   "source": [
    "strHello = \"안녕하세요. 반갑습니다.\""
   ]
  },
  {
   "cell_type": "code",
   "execution_count": 35,
   "id": "dc295cd7",
   "metadata": {},
   "outputs": [
    {
     "data": {
      "text/plain": [
       "7"
      ]
     },
     "execution_count": 35,
     "metadata": {},
     "output_type": "execute_result"
    }
   ],
   "source": [
    "strHello.find(\"반갑\")       # 문자열을 찾기 위해 find() 함수를 이용\n",
    "                            # 문자열을 있으면, 첫번째 시작 인덱스를 반환"
   ]
  },
  {
   "cell_type": "code",
   "execution_count": 36,
   "id": "a7780f3f",
   "metadata": {},
   "outputs": [
    {
     "data": {
      "text/plain": [
       "-1"
      ]
     },
     "execution_count": 36,
     "metadata": {},
     "output_type": "execute_result"
    }
   ],
   "source": [
    "strHello.find(\"hello\")    # 문자열이 없으면, -1을 리턴"
   ]
  },
  {
   "cell_type": "code",
   "execution_count": 37,
   "id": "79f116c8",
   "metadata": {},
   "outputs": [
    {
     "data": {
      "text/plain": [
       "True"
      ]
     },
     "execution_count": 37,
     "metadata": {},
     "output_type": "execute_result"
    }
   ],
   "source": [
    "\"반갑\" in strHello          # in 명령어를 사용하여 확인 가능 : if 조건문에서 활용"
   ]
  },
  {
   "cell_type": "code",
   "execution_count": 38,
   "id": "43d04315",
   "metadata": {},
   "outputs": [
    {
     "data": {
      "text/plain": [
       "'안녕하세요? 반갑습니다?'"
      ]
     },
     "execution_count": 38,
     "metadata": {},
     "output_type": "execute_result"
    }
   ],
   "source": [
    "strHello.replace('.', '?')    # .을 모두 ?로 변경"
   ]
  },
  {
   "cell_type": "code",
   "execution_count": 39,
   "id": "e22247bc",
   "metadata": {},
   "outputs": [
    {
     "data": {
      "text/plain": [
       "'안녕하셔유. 반갑습니다.'"
      ]
     },
     "execution_count": 39,
     "metadata": {},
     "output_type": "execute_result"
    }
   ],
   "source": [
    "strHello.replace('.', '?')                  \n",
    "strHello.replace(\"하세요\", \"하셔유\")       # 안녕하셔유? 가 될까요?"
   ]
  },
  {
   "cell_type": "code",
   "execution_count": 40,
   "id": "ea23e73c",
   "metadata": {},
   "outputs": [
    {
     "data": {
      "text/plain": [
       "'안녕하세요. 반갑습니다.'"
      ]
     },
     "execution_count": 40,
     "metadata": {},
     "output_type": "execute_result"
    }
   ],
   "source": [
    "strHello                      # 원본 데이터는 변하지 않음"
   ]
  },
  {
   "cell_type": "code",
   "execution_count": 41,
   "id": "ab1f9948",
   "metadata": {},
   "outputs": [
    {
     "data": {
      "text/plain": [
       "'안녕하셔유? 반갑습니다?'"
      ]
     },
     "execution_count": 41,
     "metadata": {},
     "output_type": "execute_result"
    }
   ],
   "source": [
    "strNewHello = strHello.replace('.', '?')                    # strHello를 replace하여 strNewHello에 저장   \n",
    "strNewHello = strNewHello.replace(\"하세요\", \"하셔유\")       # strNewHello를 replace하여 strNewHello에 저장\n",
    "strNewHello"
   ]
  },
  {
   "cell_type": "code",
   "execution_count": 42,
   "id": "337b905b",
   "metadata": {},
   "outputs": [
    {
     "data": {
      "text/plain": [
       "'안녕하세요. '"
      ]
     },
     "execution_count": 42,
     "metadata": {},
     "output_type": "execute_result"
    }
   ],
   "source": [
    "strHello.strip('반갑습니다.')    # strip()함수를 이용하여 \"반갑습니다.\"를 제거"
   ]
  },
  {
   "cell_type": "code",
   "execution_count": 43,
   "id": "9db66624",
   "metadata": {},
   "outputs": [
    {
     "data": {
      "text/plain": [
       "'안녕하세요. 반갑습니다.'"
      ]
     },
     "execution_count": 43,
     "metadata": {},
     "output_type": "execute_result"
    }
   ],
   "source": [
    "strHello                    # 역시 원본 데이터는 변하지 않음"
   ]
  },
  {
   "cell_type": "code",
   "execution_count": 44,
   "id": "3211cae7",
   "metadata": {},
   "outputs": [
    {
     "name": "stdout",
     "output_type": "stream",
     "text": [
      "[1, 2, 3, 4, 5]\n",
      "type :  <class 'list'>\n"
     ]
    }
   ],
   "source": [
    "lnData = [1,2,3,4,5]     # lnData를 리스트로 생성\n",
    "print(lnData)\n",
    "print('type : ', type(lnData))"
   ]
  },
  {
   "cell_type": "code",
   "execution_count": 45,
   "id": "15becebe",
   "metadata": {},
   "outputs": [
    {
     "name": "stdout",
     "output_type": "stream",
     "text": [
      "1\n",
      "4\n"
     ]
    }
   ],
   "source": [
    "print(lnData[0])    # lnData 리스트의 0번 인덱스의 값 출력\n",
    "print(lnData[3])    # lnData 리스트의 3번 인덱스의 값 출력"
   ]
  },
  {
   "cell_type": "code",
   "execution_count": 46,
   "id": "42a39189",
   "metadata": {},
   "outputs": [
    {
     "name": "stdout",
     "output_type": "stream",
     "text": [
      "[5, 2, 3, 4, 5]\n"
     ]
    }
   ],
   "source": [
    "lnData[0] = lnData[4]   # lnData[4]의 값을 lnData[0]에 저장\n",
    "print(lnData)           # lnData 리스트를 출력"
   ]
  },
  {
   "cell_type": "code",
   "execution_count": 47,
   "id": "ec606d36",
   "metadata": {},
   "outputs": [
    {
     "name": "stdout",
     "output_type": "stream",
     "text": [
      "[3, 4]\n"
     ]
    }
   ],
   "source": [
    "print(lnData[2:4])      # lnData[4]에 저장된 5는 출력되지 않음"
   ]
  },
  {
   "cell_type": "code",
   "execution_count": 48,
   "id": "8dda5f4f",
   "metadata": {},
   "outputs": [
    {
     "data": {
      "text/plain": [
       "[1, 2, 3, 4, 5, 'a', 'b', 'c']"
      ]
     },
     "execution_count": 48,
     "metadata": {},
     "output_type": "execute_result"
    }
   ],
   "source": [
    "lnData = [1,2,3,4,5]\n",
    "lstrData=['a', 'b', 'c']\n",
    "\n",
    "# 두 개의 서로다른 자료형을 가진 리스트를 병합\n",
    "lnData + lstrData"
   ]
  },
  {
   "cell_type": "code",
   "execution_count": 49,
   "id": "bfff3495",
   "metadata": {},
   "outputs": [
    {
     "data": {
      "text/plain": [
       "[1, 2, 3, 4, 5, 10]"
      ]
     },
     "execution_count": 49,
     "metadata": {},
     "output_type": "execute_result"
    }
   ],
   "source": [
    "lnData.append(10)   # 10을 맨 뒤에 추가\n",
    "lnData"
   ]
  },
  {
   "cell_type": "code",
   "execution_count": 50,
   "id": "6d1fdad1",
   "metadata": {},
   "outputs": [
    {
     "data": {
      "text/plain": [
       "['python', 1, 2, 3, 4, 5, 10]"
      ]
     },
     "execution_count": 50,
     "metadata": {},
     "output_type": "execute_result"
    }
   ],
   "source": [
    "lnData.insert(0, 'python')  #'python'문자열을 0번 인덱스에 추가하고, 기존 인덱스에 저장된 데이터는 하나씩 뒤로 밀림(인덱스가 +1 추가)\n",
    "lnDatalnData.pop(0)     # 0번 인덱스의 데이터를 삭제\n",
    "lnData"
   ]
  },
  {
   "cell_type": "code",
   "execution_count": 51,
   "id": "14f9809f",
   "metadata": {},
   "outputs": [
    {
     "data": {
      "text/plain": [
       "[1, 2, 3, 4, 5, 10]"
      ]
     },
     "execution_count": 51,
     "metadata": {},
     "output_type": "execute_result"
    }
   ],
   "source": [
    "lnData.remove('python')     # 'python' 데이터를 삭제\n",
    "lnData"
   ]
  },
  {
   "cell_type": "code",
   "execution_count": 52,
   "id": "0df6cfa6",
   "metadata": {},
   "outputs": [
    {
     "data": {
      "text/plain": [
       "[1, 2, 3, 4, 5]"
      ]
     },
     "execution_count": 52,
     "metadata": {},
     "output_type": "execute_result"
    }
   ],
   "source": [
    "del lnData[5]              # del 명령어를 통해 인덱스를 지정하여 삭제\n",
    "lnData"
   ]
  },
  {
   "cell_type": "code",
   "execution_count": 53,
   "id": "6bc2c69a",
   "metadata": {},
   "outputs": [
    {
     "data": {
      "text/plain": [
       "[1, 2, 3, 4, 5]"
      ]
     },
     "execution_count": 53,
     "metadata": {},
     "output_type": "execute_result"
    }
   ],
   "source": [
    "lnData"
   ]
  },
  {
   "cell_type": "code",
   "execution_count": 54,
   "id": "1adba4d9",
   "metadata": {},
   "outputs": [
    {
     "data": {
      "text/plain": [
       "[2, 3, 4, 5]"
      ]
     },
     "execution_count": 54,
     "metadata": {},
     "output_type": "execute_result"
    }
   ],
   "source": [
    "lnData.pop(0)     # 0번 인덱스의 데이터를 삭제\n",
    "lnData"
   ]
  },
  {
   "cell_type": "code",
   "execution_count": 55,
   "id": "116fdda8",
   "metadata": {},
   "outputs": [
    {
     "data": {
      "text/plain": [
       "[2, 3, 4]"
      ]
     },
     "execution_count": 55,
     "metadata": {},
     "output_type": "execute_result"
    }
   ],
   "source": [
    "lnData.pop()     # 인덱스 지정이 없으면, 마지막 인덱스의 값을 삭제\n",
    "lnData"
   ]
  },
  {
   "cell_type": "code",
   "execution_count": 56,
   "id": "4e88a22b",
   "metadata": {},
   "outputs": [
    {
     "data": {
      "text/plain": [
       "[]"
      ]
     },
     "execution_count": 56,
     "metadata": {},
     "output_type": "execute_result"
    }
   ],
   "source": [
    "lnData.clear()  # 리스트의 모든 데이터를 삭제\n",
    "lnData"
   ]
  },
  {
   "cell_type": "code",
   "execution_count": 57,
   "id": "6b8fd66b",
   "metadata": {},
   "outputs": [
    {
     "name": "stdout",
     "output_type": "stream",
     "text": [
      "('사과', '딸기', '바나나', '토마토', '키위')\n",
      "<class 'tuple'>\n"
     ]
    }
   ],
   "source": [
    "# 튜플의 기본 구조\n",
    "tVal = (\"사과\", \"딸기\", \"바나나\", \"토마토\", \"키위\")\n",
    "\n",
    "print(tVal)\n",
    "print(type(tVal))"
   ]
  },
  {
   "cell_type": "code",
   "execution_count": 58,
   "id": "e7853210",
   "metadata": {},
   "outputs": [
    {
     "ename": "TypeError",
     "evalue": "'tuple' object does not support item assignment",
     "output_type": "error",
     "traceback": [
      "\u001b[1;31m---------------------------------------------------------------------------\u001b[0m",
      "\u001b[1;31mTypeError\u001b[0m                                 Traceback (most recent call last)",
      "Input \u001b[1;32mIn [58]\u001b[0m, in \u001b[0;36m<cell line: 2>\u001b[1;34m()\u001b[0m\n\u001b[0;32m      1\u001b[0m \u001b[38;5;66;03m# 튜플에 저장된 데이터는 변경이 불가능\u001b[39;00m\n\u001b[1;32m----> 2\u001b[0m tVal[\u001b[38;5;241m0\u001b[39m] \u001b[38;5;241m=\u001b[39m \u001b[38;5;124m\"\u001b[39m\u001b[38;5;124m포도\u001b[39m\u001b[38;5;124m\"\u001b[39m\n",
      "\u001b[1;31mTypeError\u001b[0m: 'tuple' object does not support item assignment"
     ]
    }
   ],
   "source": [
    "# 튜플에 저장된 데이터는 변경이 불가능\n",
    "tVal[0] = \"포도\""
   ]
  },
  {
   "cell_type": "code",
   "execution_count": 59,
   "id": "78854a08",
   "metadata": {},
   "outputs": [
    {
     "data": {
      "text/plain": [
       "3"
      ]
     },
     "execution_count": 59,
     "metadata": {},
     "output_type": "execute_result"
    }
   ],
   "source": [
    "# count() 함수를 이용하여 튜플에 저장된 특정 데이터의 개수를 확인\n",
    "tData = ( 1, 2, 3, 1, 2, 3, 4, 5, 1, 2, 7)\n",
    "tData.count(1)"
   ]
  },
  {
   "cell_type": "code",
   "execution_count": 60,
   "id": "0b7a0448",
   "metadata": {},
   "outputs": [
    {
     "data": {
      "text/plain": [
       "5"
      ]
     },
     "execution_count": 60,
     "metadata": {},
     "output_type": "execute_result"
    }
   ],
   "source": [
    "# len()함수를 이용하여 튜플에 저장된 전체 데이터 개수를 확인\n",
    "len(tVal)"
   ]
  },
  {
   "cell_type": "code",
   "execution_count": 61,
   "id": "1f7cb762",
   "metadata": {},
   "outputs": [
    {
     "data": {
      "text/plain": [
       "11"
      ]
     },
     "execution_count": 61,
     "metadata": {},
     "output_type": "execute_result"
    }
   ],
   "source": [
    "len(tData)"
   ]
  },
  {
   "cell_type": "code",
   "execution_count": 62,
   "id": "4907cae6",
   "metadata": {},
   "outputs": [
    {
     "name": "stdout",
     "output_type": "stream",
     "text": [
      "(3, 1, 2)\n"
     ]
    }
   ],
   "source": [
    "print(tData[2:5])"
   ]
  },
  {
   "cell_type": "code",
   "execution_count": 63,
   "id": "066ec930",
   "metadata": {},
   "outputs": [
    {
     "name": "stdout",
     "output_type": "stream",
     "text": [
      "('사과', '딸기', '바나나', '토마토', '키위', 1, 2, 3, 1, 2, 3, 4, 5, 1, 2, 7)\n"
     ]
    }
   ],
   "source": [
    "tTuple = tVal+ tData\n",
    "print(tTuple)"
   ]
  },
  {
   "cell_type": "code",
   "execution_count": 64,
   "id": "b6ce7c1f",
   "metadata": {},
   "outputs": [
    {
     "data": {
      "text/plain": [
       "(1, 2, 3, 1, 2, 3, 4, 5, 1, 2, 7, 1, 2, 3, 1, 2, 3, 4, 5, 1, 2, 7)"
      ]
     },
     "execution_count": 64,
     "metadata": {},
     "output_type": "execute_result"
    }
   ],
   "source": [
    "tData * 2"
   ]
  },
  {
   "cell_type": "code",
   "execution_count": 65,
   "id": "19418b3d",
   "metadata": {},
   "outputs": [
    {
     "data": {
      "text/plain": [
       "(1, 2, 3, 1, 2, 3, 4, 5, 1, 2, 7)"
      ]
     },
     "execution_count": 65,
     "metadata": {},
     "output_type": "execute_result"
    }
   ],
   "source": [
    "tData"
   ]
  },
  {
   "cell_type": "code",
   "execution_count": 66,
   "id": "9e64dc2f",
   "metadata": {},
   "outputs": [
    {
     "name": "stdout",
     "output_type": "stream",
     "text": [
      "(1, 2, 3, 1, 2, 3, 4, 5, 1, 2, 7, 1, 2, 3, 1, 2, 3, 4, 5, 1, 2, 7)\n"
     ]
    }
   ],
   "source": [
    "tData2 = tData * 2\n",
    "print(tData2)"
   ]
  },
  {
   "cell_type": "code",
   "execution_count": 67,
   "id": "61330528",
   "metadata": {},
   "outputs": [
    {
     "name": "stdout",
     "output_type": "stream",
     "text": [
      "tVal memory =  0x195712c8a40\n",
      "tVal memory =  0x195712ceac0\n",
      "('사과', '딸기', '바나나', '토마토', '키위', '사과', '딸기', '바나나', '토마토', '키위')\n"
     ]
    }
   ],
   "source": [
    "print(\"tVal memory = \", hex(id(tVal)))\n",
    "tVal = tVal * 2\n",
    "print(\"tVal memory = \", hex(id(tVal)))\n",
    "print(tVal)"
   ]
  },
  {
   "cell_type": "code",
   "execution_count": 68,
   "id": "9f4aa532",
   "metadata": {},
   "outputs": [
    {
     "name": "stdout",
     "output_type": "stream",
     "text": [
      "tVal memory =  0x195712ceac0\n",
      "tVal memory =  0x1957126c860\n",
      "('사과', '딸기', '바나나', '토마토', '키위', '사과', '딸기', '바나나', '토마토', '키위', '사과', '딸기', '바나나', '토마토', '키위', '사과', '딸기', '바나나', '토마토', '키위')\n"
     ]
    }
   ],
   "source": [
    "print(\"tVal memory = \", hex(id(tVal)))\n",
    "tVal = tVal + tVal\n",
    "print(\"tVal memory = \", hex(id(tVal)))\n",
    "print(tVal)"
   ]
  },
  {
   "cell_type": "code",
   "execution_count": 69,
   "id": "4c26181b",
   "metadata": {},
   "outputs": [
    {
     "name": "stdout",
     "output_type": "stream",
     "text": [
      "{1, 2, 3, 4, 5}\n",
      "<class 'set'>\n"
     ]
    }
   ],
   "source": [
    "sVal = {1, 2, 3, 4, 5}\n",
    "print(sVal)\n",
    "print(type(sVal))"
   ]
  },
  {
   "cell_type": "code",
   "execution_count": 70,
   "id": "322ea2d7",
   "metadata": {},
   "outputs": [
    {
     "ename": "TypeError",
     "evalue": "'set' object is not subscriptable",
     "output_type": "error",
     "traceback": [
      "\u001b[1;31m---------------------------------------------------------------------------\u001b[0m",
      "\u001b[1;31mTypeError\u001b[0m                                 Traceback (most recent call last)",
      "Input \u001b[1;32mIn [70]\u001b[0m, in \u001b[0;36m<cell line: 1>\u001b[1;34m()\u001b[0m\n\u001b[1;32m----> 1\u001b[0m \u001b[43msVal\u001b[49m\u001b[43m[\u001b[49m\u001b[38;5;241;43m1\u001b[39;49m\u001b[43m:\u001b[49m\u001b[38;5;241;43m2\u001b[39;49m\u001b[43m]\u001b[49m\n",
      "\u001b[1;31mTypeError\u001b[0m: 'set' object is not subscriptable"
     ]
    }
   ],
   "source": [
    "sVal[1:2]"
   ]
  },
  {
   "cell_type": "code",
   "execution_count": 71,
   "id": "3a22f621",
   "metadata": {},
   "outputs": [
    {
     "name": "stdout",
     "output_type": "stream",
     "text": [
      "{1, 2, 3, 4, 5, 100}\n"
     ]
    }
   ],
   "source": [
    "# add 함수를 이용하여 데이터를 추가할 수 있음\n",
    "sVal.add(100)\n",
    "print(sVal)"
   ]
  },
  {
   "cell_type": "code",
   "execution_count": 72,
   "id": "f375bc4a",
   "metadata": {},
   "outputs": [
    {
     "name": "stdout",
     "output_type": "stream",
     "text": [
      "{1, 2, 3, 4, 5, 100, 200, 300}\n"
     ]
    }
   ],
   "source": [
    "# update 함수를 이용하여 여러개의 데이터를 추가할 수 있음\n",
    "sVal.update([200, 300])\n",
    "print(sVal)"
   ]
  },
  {
   "cell_type": "code",
   "execution_count": 73,
   "id": "802f3b46",
   "metadata": {},
   "outputs": [
    {
     "name": "stdout",
     "output_type": "stream",
     "text": [
      "{1, 2, 3, 4, 5, 100, 300}\n"
     ]
    }
   ],
   "source": [
    "# remove 함수를 이용하여 데이터를 삭제할 수 있음\n",
    "sVal.remove(200)\n",
    "print(sVal)"
   ]
  },
  {
   "cell_type": "code",
   "execution_count": 74,
   "id": "1eb8c3e6",
   "metadata": {},
   "outputs": [
    {
     "name": "stdout",
     "output_type": "stream",
     "text": [
      "set()\n"
     ]
    }
   ],
   "source": [
    "# clear() 함수를 이용하여 데이터를 초기화 할 수 있음\n",
    "sVal.clear()\n",
    "print(sVal)"
   ]
  },
  {
   "cell_type": "code",
   "execution_count": 75,
   "id": "4e773cbb",
   "metadata": {},
   "outputs": [
    {
     "name": "stdout",
     "output_type": "stream",
     "text": [
      "{400, 100, 500, 200, 300}\n",
      "{100, 'b', 'a', 300, 'c'}\n"
     ]
    }
   ],
   "source": [
    "sVal = {100, 200, 300, 400, 500}\n",
    "sData = {\"a\", \"b\", \"c\", \"c\", 100, 300}\n",
    "print(sVal)\n",
    "print(sData)"
   ]
  },
  {
   "cell_type": "code",
   "execution_count": 76,
   "id": "be8e47bb",
   "metadata": {},
   "outputs": [
    {
     "data": {
      "text/plain": [
       "{100, 300}"
      ]
     },
     "execution_count": 76,
     "metadata": {},
     "output_type": "execute_result"
    }
   ],
   "source": [
    "# intersection() 함수를 이용하여 교집합을 만들 수 있음\n",
    "sVal.intersection(sData)"
   ]
  },
  {
   "cell_type": "code",
   "execution_count": 77,
   "id": "7c950ad9",
   "metadata": {},
   "outputs": [
    {
     "data": {
      "text/plain": [
       "{200, 400, 500}"
      ]
     },
     "execution_count": 77,
     "metadata": {},
     "output_type": "execute_result"
    }
   ],
   "source": [
    "# deference() 함수를 이용하여 차집합을 만들 수 있음\n",
    "sVal.difference(sData)"
   ]
  },
  {
   "cell_type": "code",
   "execution_count": 78,
   "id": "57d8cecc",
   "metadata": {},
   "outputs": [
    {
     "data": {
      "text/plain": [
       "{200, 400, 500}"
      ]
     },
     "execution_count": 78,
     "metadata": {},
     "output_type": "execute_result"
    }
   ],
   "source": [
    "# \"-\" 연산자로도 가능\n",
    "sVal - sData"
   ]
  },
  {
   "cell_type": "code",
   "execution_count": 79,
   "id": "b6c47d4e",
   "metadata": {},
   "outputs": [
    {
     "data": {
      "text/plain": [
       "{100, 200, 300, 400, 500, 'a', 'b', 'c'}"
      ]
     },
     "execution_count": 79,
     "metadata": {},
     "output_type": "execute_result"
    }
   ],
   "source": [
    "# union() 함수를 이용하여 합집합을 만들 수 있음\n",
    "sVal.union(sData)dData = {\n",
    "    \"사과\" : 300, \n",
    "    \"포도\" : 200, \n",
    "    \"배\" : 500,\n",
    "    \"키위\" : 100\n",
    "}"
   ]
  },
  {
   "cell_type": "code",
   "execution_count": 80,
   "id": "327ddf1f",
   "metadata": {},
   "outputs": [
    {
     "ename": "TypeError",
     "evalue": "unsupported operand type(s) for +: 'set' and 'set'",
     "output_type": "error",
     "traceback": [
      "\u001b[1;31m---------------------------------------------------------------------------\u001b[0m",
      "\u001b[1;31mTypeError\u001b[0m                                 Traceback (most recent call last)",
      "Input \u001b[1;32mIn [80]\u001b[0m, in \u001b[0;36m<cell line: 2>\u001b[1;34m()\u001b[0m\n\u001b[0;32m      1\u001b[0m \u001b[38;5;66;03m# \"+\"연산자는 불가능\u001b[39;00m\n\u001b[1;32m----> 2\u001b[0m \u001b[43msVal\u001b[49m\u001b[43m \u001b[49m\u001b[38;5;241;43m+\u001b[39;49m\u001b[43m \u001b[49m\u001b[43msData\u001b[49m\n",
      "\u001b[1;31mTypeError\u001b[0m: unsupported operand type(s) for +: 'set' and 'set'"
     ]
    }
   ],
   "source": [
    "# \"+\"연산자는 불가능\n",
    "sVal + sData"
   ]
  },
  {
   "cell_type": "code",
   "execution_count": 81,
   "id": "66357455",
   "metadata": {},
   "outputs": [
    {
     "data": {
      "text/plain": [
       "{200, 400, 500, 'a', 'b', 'c'}"
      ]
     },
     "execution_count": 81,
     "metadata": {},
     "output_type": "execute_result"
    }
   ],
   "source": [
    "# symetric_difference()를 이용하여 합집합에서 교집합을 뺀 집합을 만들 ㅅ ㅜ있음\n",
    "sVal.symmetric_difference(sData)"
   ]
  },
  {
   "cell_type": "code",
   "execution_count": 82,
   "id": "cd77f125",
   "metadata": {},
   "outputs": [
    {
     "name": "stdout",
     "output_type": "stream",
     "text": [
      "{'name': '이컴공', 'email': 'computer@hoseo.edu', 'address': '충남 아산시'}\n",
      "<class 'dict'>\n"
     ]
    }
   ],
   "source": [
    "# 딕셔너리 기본 구조는 다음과 같이 표현할 수 있음\n",
    "dVal = {\n",
    "    'name' : '이컴공',\n",
    "    'email' : 'computer@hoseo.edu',\n",
    "    'address' : '충남 아산시'\n",
    "}\n",
    "print(dVal)\n",
    "print(type(dVal))"
   ]
  },
  {
   "cell_type": "code",
   "execution_count": 83,
   "id": "03f7ee35",
   "metadata": {},
   "outputs": [],
   "source": [
    "dData = {\n",
    "    \"사과\" : 300, \n",
    "    \"포도\" : 200, \n",
    "    \"배\" : 500,\n",
    "    \"키위\" : 100\n",
    "}"
   ]
  },
  {
   "cell_type": "code",
   "execution_count": 84,
   "id": "dd232f9e",
   "metadata": {},
   "outputs": [
    {
     "name": "stdout",
     "output_type": "stream",
     "text": [
      "500\n"
     ]
    }
   ],
   "source": [
    "# 키를 이용한 항목 검색\n",
    "print(dData[\"배\"])"
   ]
  },
  {
   "cell_type": "code",
   "execution_count": 85,
   "id": "890d329f",
   "metadata": {},
   "outputs": [
    {
     "data": {
      "text/plain": [
       "500"
      ]
     },
     "execution_count": 85,
     "metadata": {},
     "output_type": "execute_result"
    }
   ],
   "source": [
    "# get() 함수를 이용한 항목 검색\n",
    "dData.get(\"배\")"
   ]
  },
  {
   "cell_type": "code",
   "execution_count": 86,
   "id": "4d4407ce",
   "metadata": {},
   "outputs": [
    {
     "name": "stdout",
     "output_type": "stream",
     "text": [
      "{'사과': 300, '포도': 200, '배': 500, '키위': 100, '딸기': 100}\n"
     ]
    }
   ],
   "source": [
    "# 새로운 키 추가를 통한 항목 추가\n",
    "dData[\"딸기\"] = 100\n",
    "print(dData)"
   ]
  },
  {
   "cell_type": "code",
   "execution_count": 87,
   "id": "dd02d178",
   "metadata": {},
   "outputs": [
    {
     "data": {
      "text/plain": [
       "300"
      ]
     },
     "execution_count": 87,
     "metadata": {},
     "output_type": "execute_result"
    }
   ],
   "source": [
    "# pop을 이용한 항목 삭제\n",
    "dData.pop(\"사과\")"
   ]
  },
  {
   "cell_type": "code",
   "execution_count": 88,
   "id": "3614544d",
   "metadata": {},
   "outputs": [
    {
     "data": {
      "text/plain": [
       "{'포도': 200, '배': 500, '키위': 100, '딸기': 100}"
      ]
     },
     "execution_count": 88,
     "metadata": {},
     "output_type": "execute_result"
    }
   ],
   "source": [
    "dData"
   ]
  },
  {
   "cell_type": "code",
   "execution_count": 89,
   "id": "3924d704",
   "metadata": {},
   "outputs": [
    {
     "ename": "TypeError",
     "evalue": "pop expected at least 1 argument, got 0",
     "output_type": "error",
     "traceback": [
      "\u001b[1;31m---------------------------------------------------------------------------\u001b[0m",
      "\u001b[1;31mTypeError\u001b[0m                                 Traceback (most recent call last)",
      "Input \u001b[1;32mIn [89]\u001b[0m, in \u001b[0;36m<cell line: 1>\u001b[1;34m()\u001b[0m\n\u001b[1;32m----> 1\u001b[0m \u001b[43mdData\u001b[49m\u001b[38;5;241;43m.\u001b[39;49m\u001b[43mpop\u001b[49m\u001b[43m(\u001b[49m\u001b[43m)\u001b[49m\n",
      "\u001b[1;31mTypeError\u001b[0m: pop expected at least 1 argument, got 0"
     ]
    }
   ],
   "source": [
    "dData.pop()"
   ]
  },
  {
   "cell_type": "code",
   "execution_count": 90,
   "id": "fc84c2dd",
   "metadata": {},
   "outputs": [
    {
     "data": {
      "text/plain": [
       "['딸기', '배', '키위', '포도']"
      ]
     },
     "execution_count": 90,
     "metadata": {},
     "output_type": "execute_result"
    }
   ],
   "source": [
    "# sorted 함수를 이용한 정렬\n",
    "sorted(dData)"
   ]
  },
  {
   "cell_type": "code",
   "execution_count": 91,
   "id": "3fe760b8",
   "metadata": {},
   "outputs": [
    {
     "data": {
      "text/plain": [
       "[100, 100, 200, 500]"
      ]
     },
     "execution_count": 91,
     "metadata": {},
     "output_type": "execute_result"
    }
   ],
   "source": [
    "# sorted와 values 함수를 이용하여 값을 정렬할 수 있음\n",
    "sorted(dData.values())"
   ]
  },
  {
   "cell_type": "code",
   "execution_count": 92,
   "id": "b0bc5351",
   "metadata": {},
   "outputs": [
    {
     "data": {
      "text/plain": [
       "{'포도': 200, '배': 500, '키위': 100, '딸기': 100}"
      ]
     },
     "execution_count": 92,
     "metadata": {},
     "output_type": "execute_result"
    }
   ],
   "source": [
    "# 실제 dData는 변화가 없음\n",
    "dData"
   ]
  },
  {
   "cell_type": "code",
   "execution_count": 93,
   "id": "637fc22e",
   "metadata": {},
   "outputs": [],
   "source": [
    "# 함수 f(x)를 생성하고 x 값을 입력으로 받음\n",
    "def f(x):\n",
    "  # x에 10을 더한 값을 출력\n",
    "  return x + 10"
   ]
  },
  {
   "cell_type": "code",
   "execution_count": 94,
   "id": "03f296d8",
   "metadata": {},
   "outputs": [
    {
     "data": {
      "text/plain": [
       "12"
      ]
     },
     "execution_count": 94,
     "metadata": {},
     "output_type": "execute_result"
    }
   ],
   "source": [
    "f(2)"
   ]
  },
  {
   "cell_type": "code",
   "execution_count": null,
   "id": "b57dfcae",
   "metadata": {},
   "outputs": [],
   "source": []
  }
 ],
 "metadata": {
  "kernelspec": {
   "display_name": "Python 3 (ipykernel)",
   "language": "python",
   "name": "python3"
  },
  "language_info": {
   "codemirror_mode": {
    "name": "ipython",
    "version": 3
   },
   "file_extension": ".py",
   "mimetype": "text/x-python",
   "name": "python",
   "nbconvert_exporter": "python",
   "pygments_lexer": "ipython3",
   "version": "3.9.12"
  }
 },
 "nbformat": 4,
 "nbformat_minor": 5
}
